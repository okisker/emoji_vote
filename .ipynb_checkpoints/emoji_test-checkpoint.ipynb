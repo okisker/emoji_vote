{
 "cells": [
  {
   "cell_type": "code",
   "execution_count": null,
   "metadata": {
    "collapsed": true
   },
   "outputs": [],
   "source": [
    "#emoji.test.omkisker@gmail.com automatic\n",
    "#(315) 313-4238 automatic"
   ]
  },
  {
   "cell_type": "code",
   "execution_count": null,
   "metadata": {
    "collapsed": false
   },
   "outputs": [],
   "source": []
  },
  {
   "cell_type": "code",
   "execution_count": 22,
   "metadata": {
    "collapsed": false
   },
   "outputs": [
    {
     "name": "stdout",
     "output_type": "stream",
     "text": [
      "········\n"
     ]
    },
    {
     "data": {
      "text/plain": [
       "('BYE', [b'LOGOUT Requested'])"
      ]
     },
     "execution_count": 22,
     "metadata": {},
     "output_type": "execute_result"
    }
   ],
   "source": [
    "#attempt 3 https://gist.github.com/robulouski/7441883\n",
    "\n",
    "#!/usr/bin/env python\n",
    "#\n",
    "# Very basic example of using Python 3 and IMAP to iterate over emails in a\n",
    "# gmail folder/label.  This code is released into the public domain.\n",
    "#\n",
    "# This script is example code from this blog post:\n",
    "# http://www.voidynullness.net/blog/2013/07/25/gmail-email-with-python-via-imap/\n",
    "#\n",
    "# This is an updated version of the original -- modified to work with Python 3.4.\n",
    "#\n",
    "import sys\n",
    "import imaplib\n",
    "import getpass\n",
    "import email\n",
    "import email.header\n",
    "import datetime\n",
    "\n",
    "EMAIL_ACCOUNT = \"emoji.test.omkisker@gmail.com\"\n",
    "EMAIL_FOLDER = \"INBOX\"\n",
    "    \n",
    "def process_mailbox(M):\n",
    "    rv, data = M.search(None, \"ALL\")\n",
    "    if rv != 'OK':\n",
    "        print(\"No messages found!\")\n",
    "        return\n",
    "    \n",
    "    for num in data[0].split():\n",
    "        rv, data = M.fetch(num, '(RFC822)')\n",
    "        if rv != 'OK':\n",
    "            print(\"ERROR getting message\", num)\n",
    "            return\n",
    "\n",
    "        msg = email.message_from_bytes(data[0][1])\n",
    "        hdr = email.header.make_header(email.header.decode_header(msg['Subject']))\n",
    "        subject = str(hdr)\n",
    "        message = str(msg)\n",
    "        \n",
    "#SEARCH EMOJI IN EMAIL ------------------------------------------------\n",
    "        \n",
    "def open_file(file):\n",
    "    with open (file, 'r') as f:\n",
    "        string = f.read()\n",
    "        words = string.split()\n",
    "    return words \n",
    "\n",
    "        if 'paid' in subject:\n",
    "            #print('Subject:', subject)\n",
    "            #print('Message:', message)\n",
    "            return\n",
    "        \n",
    "            emoji_file = \"utf8_emoji.txt\"\n",
    "            emoji_word = open_file(emoji_file)\n",
    "            text = message\n",
    "            email_word = text.split()\n",
    "        \n",
    "        if '$' in email_word:\n",
    "            print ('Money:',email_word)\n",
    "            return\n",
    "\n",
    "        if emoji_word in email_word:\n",
    "            if emoji_word == email_word:\n",
    "                print(emoji_word)\n",
    "                return\n",
    "\n",
    "#SEARCH EMOJI IN EMAIL ------------------------------------------------\n",
    "\n",
    "\n",
    "\n",
    "M = imaplib.IMAP4_SSL('imap.gmail.com')\n",
    "\n",
    "try:\n",
    "    rv, data = M.login(EMAIL_ACCOUNT, getpass.getpass())\n",
    "except imaplib.IMAP4.error:\n",
    "    print (\"LOGIN FAILED!!! \")\n",
    "    sys.exit(1)\n",
    "\n",
    "#print(rv, data)\n",
    "\n",
    "rv, mailboxes = M.list()\n",
    "#if rv == 'OK':\n",
    "    #print(\"Mailboxes:\")\n",
    "    #print(mailboxes)\n",
    "\n",
    "rv, data = M.select(EMAIL_FOLDER)\n",
    "if rv == 'OK':\n",
    "    #print(\"Processing mailbox...\\n\")\n",
    "    process_mailbox(M)\n",
    "    M.close()\n",
    "else:\n",
    "    print(\"ERROR: Unable to open mailbox \", rv)\n",
    "M.logout()"
   ]
  },
  {
   "cell_type": "code",
   "execution_count": null,
   "metadata": {
    "collapsed": false
   },
   "outputs": [],
   "source": []
  },
  {
   "cell_type": "code",
   "execution_count": null,
   "metadata": {
    "collapsed": false
   },
   "outputs": [],
   "source": []
  },
  {
   "cell_type": "code",
   "execution_count": null,
   "metadata": {
    "collapsed": true
   },
   "outputs": [],
   "source": []
  }
 ],
 "metadata": {
  "kernelspec": {
   "display_name": "Python 3",
   "language": "python",
   "name": "python3"
  },
  "language_info": {
   "codemirror_mode": {
    "name": "ipython",
    "version": 3
   },
   "file_extension": ".py",
   "mimetype": "text/x-python",
   "name": "python",
   "nbconvert_exporter": "python",
   "pygments_lexer": "ipython3",
   "version": "3.5.2"
  }
 },
 "nbformat": 4,
 "nbformat_minor": 2
}
