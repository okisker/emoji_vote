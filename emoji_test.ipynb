{
 "cells": [
  {
   "cell_type": "code",
   "execution_count": null,
   "metadata": {
    "collapsed": true
   },
   "outputs": [],
   "source": [
    "#emoji.test.omkisker@gmail.com automatic\n",
    "#(315) 313-4238 automatic"
   ]
  },
  {
   "cell_type": "code",
   "execution_count": 72,
   "metadata": {
    "collapsed": false
   },
   "outputs": [
    {
     "name": "stdout",
     "output_type": "stream",
     "text": [
      "········\n",
      "$1.00\n",
      "['$1.00']\n",
      "['<p>=F0=9F=98=82</p>']\n",
      "$0.50\n",
      "['$1.00', '$0.50']\n",
      "['<p>=F0=9F=98=82</p>', '<p>=F0=9F=8E=89</p>']\n",
      "$0.50\n",
      "['$1.00', '$0.50', '$0.50']\n",
      "['<p>=F0=9F=98=82</p>', '<p>=F0=9F=8E=89</p>', '<p>=F0=9F=98=98</p>']\n"
     ]
    },
    {
     "data": {
      "text/plain": [
       "('BYE', [b'LOGOUT Requested'])"
      ]
     },
     "execution_count": 72,
     "metadata": {},
     "output_type": "execute_result"
    }
   ],
   "source": [
    "#attempt 3 https://gist.github.com/robulouski/7441883\n",
    "\n",
    "import sys\n",
    "import imaplib\n",
    "import getpass\n",
    "import email\n",
    "import email.header\n",
    "import datetime\n",
    "import re\n",
    "import plotly \n",
    "plotly.tools.set_credentials_file(username='okisker', api_key='V5J4fu9uuueJaCfAV8sf')\n",
    "import plotly.plotly as py\n",
    "from plotly.graph_objs import *\n",
    "\n",
    "#x_list=[]\n",
    "y_list=[]\n",
    "y = y_list\n",
    "x_list = []\n",
    "x = x_list\n",
    "\n",
    "EMAIL_ACCOUNT = \"emoji.test.omkisker@gmail.com\"\n",
    "EMAIL_FOLDER = \"INBOX\"\n",
    "\n",
    "def open_file(file):\n",
    "    with open (file, 'r') as f:\n",
    "        string = f.read()\n",
    "        words = string.split()\n",
    "    return words\n",
    "    \n",
    "def process_mailbox(M):\n",
    "    rv, data = M.search(None, \"ALL\")\n",
    "    if rv != 'OK':\n",
    "        print(\"No messages found!\")\n",
    "        return\n",
    "\n",
    "    for num in data[0].split():\n",
    "        rv, data = M.fetch(num, '(RFC822)')\n",
    "        if rv != 'OK':\n",
    "            print(\"ERROR getting message\", num)\n",
    "            return\n",
    "\n",
    "        msg = email.message_from_bytes(data[0][1])\n",
    "        hdr = email.header.make_header(email.header.decode_header(msg['Subject']))\n",
    "        subject = str(hdr)\n",
    "        message = str(msg)\n",
    "        #print('Subject:', subject)\n",
    "        #print('Message:', message)\n",
    "        #return mail_data\n",
    "        \n",
    "        if '$' in subject:\n",
    "            s_string = subject\n",
    "            subject = s_string.split()\n",
    "            #print (subject)\n",
    "        else:\n",
    "            print('subject split failure')\n",
    "        if '$' in message:\n",
    "            m_string = message\n",
    "            message = m_string.split()\n",
    "            #print (message)\n",
    "        else:\n",
    "            print('message split failure')\n",
    "        \n",
    "        for m_word in message:\n",
    "            for s_word in subject:\n",
    "                if m_word == s_word:\n",
    "                    if s_word.startswith('$'):\n",
    "                        money = s_word\n",
    "                        y_list.append(money)\n",
    "                        print(money)\n",
    "                        print(y)\n",
    "\n",
    "        for m_word in message:\n",
    "            if m_word.startswith('<p>='):\n",
    "                x_list.append(m_word)\n",
    "                print(x_list)\n",
    "                            \n",
    "M = imaplib.IMAP4_SSL('imap.gmail.com')\n",
    "\n",
    "try:\n",
    "    rv, data = M.login(EMAIL_ACCOUNT, getpass.getpass())\n",
    "except imaplib.IMAP4.error:\n",
    "    print (\"LOGIN FAILED!!! \")\n",
    "    sys.exit(1)\n",
    "\n",
    "#print(rv, data)\n",
    "\n",
    "rv, mailboxes = M.list()\n",
    "#if rv == 'OK':\n",
    "    #print(\"Mailboxes:\")\n",
    "    #print(mailboxes)\n",
    "\n",
    "rv, data = M.select(EMAIL_FOLDER)\n",
    "if rv == 'OK':\n",
    "    #print(\"Processing mailbox...\\n\")\n",
    "    process_mailbox(M)\n",
    "\n",
    "    #TURN INTO BAR GRAPH\n",
    "    trace = Bar(\n",
    "    x=x, #emoji\n",
    "    y=y #amount of money\n",
    "    )\n",
    "    data = Data([trace])\n",
    "    py.plot(data, filename = 'emoji')\n",
    "    \n",
    "    M.close()\n",
    "else:\n",
    "    print(\"ERROR: Unable to open mailbox \", rv)\n",
    "M.logout()"
   ]
  },
  {
   "cell_type": "code",
   "execution_count": null,
   "metadata": {
    "collapsed": true
   },
   "outputs": [],
   "source": []
  }
 ],
 "metadata": {
  "kernelspec": {
   "display_name": "Python 3",
   "language": "python",
   "name": "python3"
  },
  "language_info": {
   "codemirror_mode": {
    "name": "ipython",
    "version": 3
   },
   "file_extension": ".py",
   "mimetype": "text/x-python",
   "name": "python",
   "nbconvert_exporter": "python",
   "pygments_lexer": "ipython3",
   "version": "3.5.2"
  }
 },
 "nbformat": 4,
 "nbformat_minor": 2
}
